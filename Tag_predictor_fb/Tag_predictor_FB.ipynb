{
 "cells": [
  {
   "cell_type": "code",
   "execution_count": 1,
   "metadata": {
    "scrolled": true
   },
   "outputs": [],
   "source": [
    "import zipfile\n",
    "import pandas as pd\n",
    "import numpy as np\n",
    "import matplotlib.pyplot as plt\n",
    "import seaborn as sns"
   ]
  },
  {
   "cell_type": "code",
   "execution_count": 2,
   "metadata": {},
   "outputs": [],
   "source": [
    "#DATASET FROM KAGGLE (https://www.kaggle.com/c/facebook-recruiting-iii-keyword-extraction/data)\n",
    "zf_train = zipfile.ZipFile('C:/Users/user/Desktop/DL_Projects/Tag_predictor_FB/Train.zip') \n",
    "data = pd.read_csv(zf_train.open('Train.csv'),nrows = 100000)"
   ]
  },
  {
   "cell_type": "code",
   "execution_count": 3,
   "metadata": {},
   "outputs": [
    {
     "data": {
      "text/plain": [
       "Id                                                       1\n",
       "Title    How to check if an uploaded file is an image w...\n",
       "Body     <p>I'd like to check if an uploaded file is an...\n",
       "Tags     php image-processing file-upload upload mime-t...\n",
       "Name: 0, dtype: object"
      ]
     },
     "execution_count": 3,
     "metadata": {},
     "output_type": "execute_result"
    }
   ],
   "source": [
    "data.iloc[0]"
   ]
  },
  {
   "cell_type": "code",
   "execution_count": 4,
   "metadata": {},
   "outputs": [],
   "source": [
    "X = data.drop('Tags',axis = 1)\n",
    "y = data['Tags']"
   ]
  },
  {
   "cell_type": "code",
   "execution_count": 5,
   "metadata": {},
   "outputs": [
    {
     "data": {
      "text/html": [
       "<div>\n",
       "<style scoped>\n",
       "    .dataframe tbody tr th:only-of-type {\n",
       "        vertical-align: middle;\n",
       "    }\n",
       "\n",
       "    .dataframe tbody tr th {\n",
       "        vertical-align: top;\n",
       "    }\n",
       "\n",
       "    .dataframe thead th {\n",
       "        text-align: right;\n",
       "    }\n",
       "</style>\n",
       "<table border=\"1\" class=\"dataframe\">\n",
       "  <thead>\n",
       "    <tr style=\"text-align: right;\">\n",
       "      <th></th>\n",
       "      <th>Id</th>\n",
       "      <th>Title</th>\n",
       "      <th>Body</th>\n",
       "    </tr>\n",
       "  </thead>\n",
       "  <tbody>\n",
       "    <tr>\n",
       "      <th>99995</th>\n",
       "      <td>99996</td>\n",
       "      <td>where to overwrite get_posts methods in single...</td>\n",
       "      <td>&lt;p&gt;we are having a performance issue for it we...</td>\n",
       "    </tr>\n",
       "    <tr>\n",
       "      <th>99996</th>\n",
       "      <td>99997</td>\n",
       "      <td>Query data in Powerpoint</td>\n",
       "      <td>&lt;p&gt;I would like to build an MS PowerPoint 2010...</td>\n",
       "    </tr>\n",
       "    <tr>\n",
       "      <th>99997</th>\n",
       "      <td>99998</td>\n",
       "      <td>Convolution of function</td>\n",
       "      <td>&lt;p&gt;I need find $x^2\\cdot e^{{-x^2}/2} * e^{{-x...</td>\n",
       "    </tr>\n",
       "    <tr>\n",
       "      <th>99998</th>\n",
       "      <td>99999</td>\n",
       "      <td>How to output a value stored in a variable in ...</td>\n",
       "      <td>&lt;p&gt;I am learning assembly programming using \"8...</td>\n",
       "    </tr>\n",
       "    <tr>\n",
       "      <th>99999</th>\n",
       "      <td>100000</td>\n",
       "      <td>strange behaviour with a tableviewcontroller</td>\n",
       "      <td>&lt;p&gt;&lt;img src=\"http://sharingdream.com/phone.jpg...</td>\n",
       "    </tr>\n",
       "  </tbody>\n",
       "</table>\n",
       "</div>"
      ],
      "text/plain": [
       "           Id                                              Title  \\\n",
       "99995   99996  where to overwrite get_posts methods in single...   \n",
       "99996   99997                           Query data in Powerpoint   \n",
       "99997   99998                            Convolution of function   \n",
       "99998   99999  How to output a value stored in a variable in ...   \n",
       "99999  100000       strange behaviour with a tableviewcontroller   \n",
       "\n",
       "                                                    Body  \n",
       "99995  <p>we are having a performance issue for it we...  \n",
       "99996  <p>I would like to build an MS PowerPoint 2010...  \n",
       "99997  <p>I need find $x^2\\cdot e^{{-x^2}/2} * e^{{-x...  \n",
       "99998  <p>I am learning assembly programming using \"8...  \n",
       "99999  <p><img src=\"http://sharingdream.com/phone.jpg...  "
      ]
     },
     "execution_count": 5,
     "metadata": {},
     "output_type": "execute_result"
    }
   ],
   "source": [
    "X.tail()"
   ]
  },
  {
   "cell_type": "code",
   "execution_count": 6,
   "metadata": {},
   "outputs": [
    {
     "data": {
      "text/plain": [
       "0    php image-processing file-upload upload mime-t...\n",
       "1                                              firefox\n",
       "2                            r matlab machine-learning\n",
       "3                                      c# url encoding\n",
       "4                            php api file-get-contents\n",
       "Name: Tags, dtype: object"
      ]
     },
     "execution_count": 6,
     "metadata": {},
     "output_type": "execute_result"
    }
   ],
   "source": [
    "y.head()"
   ]
  },
  {
   "cell_type": "code",
   "execution_count": 7,
   "metadata": {},
   "outputs": [],
   "source": [
    "# Whats the distribution of tags (how many tags per question)"
   ]
  },
  {
   "cell_type": "code",
   "execution_count": 8,
   "metadata": {},
   "outputs": [
    {
     "data": {
      "text/plain": [
       "Text(0, 0.5, '# of questions')"
      ]
     },
     "execution_count": 8,
     "metadata": {},
     "output_type": "execute_result"
    },
    {
     "data": {
      "image/png": "[encoded data removed]",
      "text/plain": [
       "<Figure size 432x288 with 1 Axes>"
      ]
     },
     "metadata": {
      "needs_background": "light"
     },
     "output_type": "display_data"
    }
   ],
   "source": [
    "fig = sns.countplot(y.apply(lambda x: len(x.split())))\n",
    "plt.xlabel('tags')\n",
    "plt.ylabel('# of questions')"
   ]
  },
  {
   "cell_type": "code",
   "execution_count": 9,
   "metadata": {},
   "outputs": [],
   "source": [
    "Y = y.apply(lambda x: x.split())"
   ]
  },
  {
   "cell_type": "code",
   "execution_count": 10,
   "metadata": {},
   "outputs": [],
   "source": [
    "tags = []\n",
    "\n",
    "for row in Y:\n",
    "    for tag in row:\n",
    "        tags.append(tag)"
   ]
  },
  {
   "cell_type": "code",
   "execution_count": 11,
   "metadata": {},
   "outputs": [
    {
     "data": {
      "text/plain": [
       "[('c#', 7786),\n",
       " ('java', 6788),\n",
       " ('php', 6575),\n",
       " ('javascript', 6135),\n",
       " ('android', 5317)]"
      ]
     },
     "execution_count": 11,
     "metadata": {},
     "output_type": "execute_result"
    }
   ],
   "source": [
    "from collections import Counter\n",
    "tags = dict(Counter(tags))\n",
    "tags_sorted = sorted(tags.items(), key=lambda x: x[1],reverse=True)\n",
    "tags_sorted[:5]"
   ]
  },
  {
   "cell_type": "code",
   "execution_count": 12,
   "metadata": {},
   "outputs": [
    {
     "data": {
      "image/png": "[encoded data removed]",
      "text/plain": [
       "<Figure size 432x288 with 1 Axes>"
      ]
     },
     "metadata": {
      "needs_background": "light"
     },
     "output_type": "display_data"
    }
   ],
   "source": [
    "plt.bar(range(len(tags_sorted[:35])), [val[1] for val in tags_sorted[:35]], align='center')\n",
    "plt.xticks(range(len(tags_sorted[:35])), [val[0] for val in tags_sorted[:35]])\n",
    "plt.xticks(rotation=90)\n",
    "plt.show()"
   ]
  },
  {
   "cell_type": "code",
   "execution_count": 13,
   "metadata": {},
   "outputs": [
    {
     "ename": "ModuleNotFoundError",
     "evalue": "No module named 'sklearn'",
     "output_type": "error",
     "traceback": [
      "\u001b[1;31m---------------------------------------------------------------------------\u001b[0m",
      "\u001b[1;31mModuleNotFoundError\u001b[0m                       Traceback (most recent call last)",
      "\u001b[1;32m<ipython-input-13-2a9d1ee5ca3a>\u001b[0m in \u001b[0;36m<module>\u001b[1;34m\u001b[0m\n\u001b[1;32m----> 1\u001b[1;33m \u001b[1;32mfrom\u001b[0m \u001b[0msklearn\u001b[0m\u001b[1;33m.\u001b[0m\u001b[0mpreprocessing\u001b[0m \u001b[1;32mimport\u001b[0m \u001b[0mMultiLabelBinarizer\u001b[0m\u001b[1;33m\u001b[0m\u001b[1;33m\u001b[0m\u001b[0m\n\u001b[0m\u001b[0;32m      2\u001b[0m \u001b[0mmlb\u001b[0m \u001b[1;33m=\u001b[0m \u001b[0mMultiLabelBinarizer\u001b[0m\u001b[1;33m(\u001b[0m\u001b[1;33m)\u001b[0m\u001b[1;33m\u001b[0m\u001b[1;33m\u001b[0m\u001b[0m\n\u001b[0;32m      3\u001b[0m \u001b[1;33m\u001b[0m\u001b[0m\n\u001b[0;32m      4\u001b[0m res = pd.DataFrame(mlb.fit_transform(Y),\n\u001b[0;32m      5\u001b[0m                    \u001b[0mcolumns\u001b[0m\u001b[1;33m=\u001b[0m\u001b[0mmlb\u001b[0m\u001b[1;33m.\u001b[0m\u001b[0mclasses_\u001b[0m\u001b[1;33m,\u001b[0m\u001b[1;33m\u001b[0m\u001b[1;33m\u001b[0m\u001b[0m\n",
      "\u001b[1;31mModuleNotFoundError\u001b[0m: No module named 'sklearn'"
     ]
    }
   ],
   "source": [
    "from sklearn.preprocessing import MultiLabelBinarizer\n",
    "mlb = MultiLabelBinarizer()\n",
    "\n",
    "res = pd.DataFrame(mlb.fit_transform(Y),\n",
    "                   columns=mlb.classes_,\n",
    "                   index=Y.index)\n"
   ]
  },
  {
   "cell_type": "code",
   "execution_count": 14,
   "metadata": {
    "scrolled": true
   },
   "outputs": [
    {
     "data": {
      "text/html": [
       "<div>\n",
       "<style scoped>\n",
       "    .dataframe tbody tr th:only-of-type {\n",
       "        vertical-align: middle;\n",
       "    }\n",
       "\n",
       "    .dataframe tbody tr th {\n",
       "        vertical-align: top;\n",
       "    }\n",
       "\n",
       "    .dataframe thead th {\n",
       "        text-align: right;\n",
       "    }\n",
       "</style>\n",
       "<table border=\"1\" class=\"dataframe\">\n",
       "  <thead>\n",
       "    <tr style=\"text-align: right;\">\n",
       "      <th></th>\n",
       "      <th>Id</th>\n",
       "      <th>Title</th>\n",
       "      <th>Body</th>\n",
       "    </tr>\n",
       "  </thead>\n",
       "  <tbody>\n",
       "    <tr>\n",
       "      <th>99995</th>\n",
       "      <td>99996</td>\n",
       "      <td>where to overwrite get_posts methods in single...</td>\n",
       "      <td>&lt;p&gt;we are having a performance issue for it we...</td>\n",
       "    </tr>\n",
       "    <tr>\n",
       "      <th>99996</th>\n",
       "      <td>99997</td>\n",
       "      <td>Query data in Powerpoint</td>\n",
       "      <td>&lt;p&gt;I would like to build an MS PowerPoint 2010...</td>\n",
       "    </tr>\n",
       "    <tr>\n",
       "      <th>99997</th>\n",
       "      <td>99998</td>\n",
       "      <td>Convolution of function</td>\n",
       "      <td>&lt;p&gt;I need find $x^2\\cdot e^{{-x^2}/2} * e^{{-x...</td>\n",
       "    </tr>\n",
       "    <tr>\n",
       "      <th>99998</th>\n",
       "      <td>99999</td>\n",
       "      <td>How to output a value stored in a variable in ...</td>\n",
       "      <td>&lt;p&gt;I am learning assembly programming using \"8...</td>\n",
       "    </tr>\n",
       "    <tr>\n",
       "      <th>99999</th>\n",
       "      <td>100000</td>\n",
       "      <td>strange behaviour with a tableviewcontroller</td>\n",
       "      <td>&lt;p&gt;&lt;img src=\"http://sharingdream.com/phone.jpg...</td>\n",
       "    </tr>\n",
       "  </tbody>\n",
       "</table>\n",
       "</div>"
      ],
      "text/plain": [
       "           Id                                              Title  \\\n",
       "99995   99996  where to overwrite get_posts methods in single...   \n",
       "99996   99997                           Query data in Powerpoint   \n",
       "99997   99998                            Convolution of function   \n",
       "99998   99999  How to output a value stored in a variable in ...   \n",
       "99999  100000       strange behaviour with a tableviewcontroller   \n",
       "\n",
       "                                                    Body  \n",
       "99995  <p>we are having a performance issue for it we...  \n",
       "99996  <p>I would like to build an MS PowerPoint 2010...  \n",
       "99997  <p>I need find $x^2\\cdot e^{{-x^2}/2} * e^{{-x...  \n",
       "99998  <p>I am learning assembly programming using \"8...  \n",
       "99999  <p><img src=\"http://sharingdream.com/phone.jpg...  "
      ]
     },
     "execution_count": 14,
     "metadata": {},
     "output_type": "execute_result"
    }
   ],
   "source": [
    "X.tail()"
   ]
  },
  {
   "cell_type": "code",
   "execution_count": 15,
   "metadata": {},
   "outputs": [
    {
     "ename": "NameError",
     "evalue": "name 'res' is not defined",
     "output_type": "error",
     "traceback": [
      "\u001b[1;31m---------------------------------------------------------------------------\u001b[0m",
      "\u001b[1;31mNameError\u001b[0m                                 Traceback (most recent call last)",
      "\u001b[1;32m<ipython-input-15-4d00669151fe>\u001b[0m in \u001b[0;36m<module>\u001b[1;34m\u001b[0m\n\u001b[1;32m----> 1\u001b[1;33m \u001b[0mres\u001b[0m\u001b[1;33m.\u001b[0m\u001b[0mtail\u001b[0m\u001b[1;33m(\u001b[0m\u001b[1;33m)\u001b[0m\u001b[1;33m\u001b[0m\u001b[1;33m\u001b[0m\u001b[0m\n\u001b[0m",
      "\u001b[1;31mNameError\u001b[0m: name 'res' is not defined"
     ]
    }
   ],
   "source": [
    "res.tail()"
   ]
  },
  {
   "cell_type": "code",
   "execution_count": null,
   "metadata": {},
   "outputs": [],
   "source": [
    "import nltk\n",
    "from nltk.corpus import stopwords\n",
    "from nltk.stem.snowball import SnowballStemmer\n",
    "import re\n",
    "import sys\n",
    "import warnings\n",
    "\n",
    "if not sys.warnoptions:\n",
    "    warnings.simplefilter(\"ignore\")\n",
    "    \n",
    "def cleanHtml(sentence):\n",
    "    cleanr = re.compile('<.*?>')\n",
    "    cleantext = re.sub(cleanr, ' ', str(sentence))\n",
    "    return cleantext\n",
    "\n",
    "def cleanPunc(sentence): #function to clean the word of any punctuation or special characters\n",
    "    cleaned = re.sub(r'[?|!|\\'|\"|#]',r'',sentence)\n",
    "    cleaned = re.sub(r'[.|,|)|(|\\|/]',r' ',cleaned)\n",
    "    cleaned = cleaned.strip()\n",
    "    cleaned = cleaned.replace(\"\\n\",\" \")\n",
    "    return cleaned\n",
    "\n",
    "def keepAlpha(sentence):\n",
    "    alpha_sent = \"\"\n",
    "    for word in sentence.split():\n",
    "        alpha_word = re.sub('[^a-z A-Z]+', ' ', word)\n",
    "        alpha_sent += alpha_word\n",
    "        alpha_sent += \" \"\n",
    "    alpha_sent = alpha_sent.strip()\n",
    "    return alpha_sent\n"
   ]
  },
  {
   "cell_type": "code",
   "execution_count": 17,
   "metadata": {},
   "outputs": [],
   "source": [
    "#X['Title'] = X['Title'].str.lower()\n",
    "#X['Title'] = X['Title'].apply(cleanHtml)\n",
    "#X['Title'] = X['Title'].apply(cleanPunc)\n",
    "#X['Title'] = X['Title'].apply(keepAlpha)"
   ]
  },
  {
   "cell_type": "code",
   "execution_count": 22,
   "metadata": {},
   "outputs": [],
   "source": [
    "X['Body'] = X['Body'].str.lower()\n",
    "X['Body'] = X['Body'].apply(cleanHtml)\n",
    "X['Body'] = X['Body'].apply(cleanPunc)\n",
    "X['Body'] = X['Body'].apply(keepAlpha)"
   ]
  },
  {
   "cell_type": "code",
   "execution_count": 23,
   "metadata": {},
   "outputs": [],
   "source": [
    "import nltk\n",
    "#nltk.download('stopwords')"
   ]
  },
  {
   "cell_type": "code",
   "execution_count": 24,
   "metadata": {},
   "outputs": [],
   "source": [
    "stop_words = set(stopwords.words('english'))\n",
    "stop_words.update(['zero','one','two','three','four','five','six','seven','eight','nine','ten','may','also','across','among','beside','however','yet','within'])\n",
    "re_stop_words = re.compile(r\"\\b(\" + \"|\".join(stop_words) + \")\\\\W\", re.I)\n",
    "\n",
    "def removeStopWords(sentence):\n",
    "    global re_stop_words\n",
    "    return re_stop_words.sub(\" \", sentence)"
   ]
  },
  {
   "cell_type": "code",
   "execution_count": 25,
   "metadata": {},
   "outputs": [],
   "source": [
    "#X['Title'] = X['Title'].apply(removeStopWords)\n",
    "X['Body'] = X['Body'].apply(removeStopWords)"
   ]
  },
  {
   "cell_type": "code",
   "execution_count": 112,
   "metadata": {},
   "outputs": [
    {
     "data": {
      "text/plain": [
       "'  check   uploaded file   image without mime type'"
      ]
     },
     "execution_count": 112,
     "metadata": {},
     "output_type": "execute_result"
    }
   ],
   "source": [
    "#X['Title'][0]"
   ]
  },
  {
   "cell_type": "code",
   "execution_count": 26,
   "metadata": {},
   "outputs": [],
   "source": [
    "from sklearn.model_selection import train_test_split\n",
    "from sklearn.feature_extraction.text import CountVectorizer"
   ]
  },
  {
   "cell_type": "code",
   "execution_count": 114,
   "metadata": {},
   "outputs": [
    {
     "name": "stdout",
     "output_type": "stream",
     "text": [
      "44487\n"
     ]
    }
   ],
   "source": [
    "# Might take awhile...\n",
    "bow_transformer_title = CountVectorizer(analyzer=lambda x: x.split()).fit(X['Title'])\n",
    "\n",
    "# Print total number of vocab words\n",
    "print(len(bow_transformer_title.vocabulary_))"
   ]
  },
  {
   "cell_type": "code",
   "execution_count": 116,
   "metadata": {
    "scrolled": true
   },
   "outputs": [
    {
     "name": "stdout",
     "output_type": "stream",
     "text": [
      "  (0, 6053)\t1\n",
      "  (0, 8139)\t1\n",
      "  (0, 13514)\t1\n",
      "  (0, 29397)\t1\n",
      "  (0, 29425)\t1\n",
      "  (0, 42589)\t1\n",
      "(1, 44487)\n"
     ]
    }
   ],
   "source": [
    "bow4 = bow_transformer_title.transform([X['Title'][1]])\n",
    "print(bow4)\n",
    "print(bow4.shape)"
   ]
  },
  {
   "cell_type": "code",
   "execution_count": 117,
   "metadata": {},
   "outputs": [
    {
     "name": "stdout",
     "output_type": "stream",
     "text": [
      "blobclient\n"
     ]
    }
   ],
   "source": [
    "print(bow_transformer_title.get_feature_names()[3811])"
   ]
  },
  {
   "cell_type": "code",
   "execution_count": 27,
   "metadata": {},
   "outputs": [
    {
     "name": "stdout",
     "output_type": "stream",
     "text": [
      "253522\n"
     ]
    }
   ],
   "source": [
    "# Might take awhile...\n",
    "bow_transformer_body = CountVectorizer(analyzer=lambda x: x.split()).fit(X['Body'])\n",
    "\n",
    "# Print total number of vocab words\n",
    "print(len(bow_transformer_body.vocabulary_))"
   ]
  },
  {
   "cell_type": "code",
   "execution_count": 28,
   "metadata": {},
   "outputs": [],
   "source": [
    "#titles = bow_transformer_title.transform(X['Title'])\n",
    "bodies = bow_transformer_body.transform(X['Body'])"
   ]
  },
  {
   "cell_type": "code",
   "execution_count": 131,
   "metadata": {
    "scrolled": false
   },
   "outputs": [
    {
     "name": "stdout",
     "output_type": "stream",
     "text": [
      "  (0, 6053)\t1\n",
      "  (0, 8139)\t1\n",
      "  (0, 13514)\t1\n",
      "  (0, 29397)\t1\n",
      "  (0, 29425)\t1\n",
      "  (0, 42589)\t1\n"
     ]
    }
   ],
   "source": [
    "print(titles[1])"
   ]
  },
  {
   "cell_type": "code",
   "execution_count": 29,
   "metadata": {},
   "outputs": [],
   "source": [
    "from sklearn.feature_extraction.text import TfidfTransformer\n",
    "\n",
    "#tfidf_transformer_title = TfidfTransformer().fit(titles)\n",
    "tfidf_transformer_body = TfidfTransformer().fit(bodies)"
   ]
  },
  {
   "cell_type": "code",
   "execution_count": 30,
   "metadata": {},
   "outputs": [],
   "source": [
    "#titles_tfidf = tfidf_transformer_title.transform(titles)\n",
    "bodies_tfidf = tfidf_transformer_body.transform(bodies)"
   ]
  },
  {
   "cell_type": "code",
   "execution_count": 31,
   "metadata": {},
   "outputs": [
    {
     "name": "stdout",
     "output_type": "stream",
     "text": [
      "  (0, 243067)\t0.06327599271475733\n",
      "  (0, 237327)\t0.1059907157808381\n",
      "  (0, 235503)\t0.2389523255188247\n",
      "  (0, 235460)\t0.3013894125753079\n",
      "  (0, 235431)\t0.26255200818864305\n",
      "  (0, 231045)\t0.22871006699609872\n",
      "  (0, 221938)\t0.07717953171838875\n",
      "  (0, 206983)\t0.07527322792400554\n",
      "  (0, 171538)\t0.06832117796825787\n",
      "  (0, 167365)\t0.12468546746922711\n",
      "  (0, 164909)\t0.08976458382030317\n",
      "  (0, 153245)\t0.2524952811935646\n",
      "  (0, 135814)\t0.3443614502946276\n",
      "  (0, 131880)\t0.13254072667282088\n",
      "  (0, 123333)\t0.05386171846719465\n",
      "  (0, 115397)\t0.13197276298118915\n",
      "  (0, 115371)\t0.16486539106033254\n",
      "  (0, 103098)\t0.1906595397346288\n",
      "  (0, 103085)\t0.05522583153832643\n",
      "  (0, 101350)\t0.06636337143920698\n",
      "  (0, 90681)\t0.1155754446444676\n",
      "  (0, 90468)\t0.15590410470880875\n",
      "  (0, 82137)\t0.09877458648520983\n",
      "  (0, 75008)\t0.08751393404204487\n",
      "  (0, 74590)\t0.40968454674143556\n",
      "  (0, 71338)\t0.13412388197683045\n",
      "  (0, 62688)\t0.07716009446968687\n",
      "  (0, 32093)\t0.13709387783958663\n",
      "  (0, 31811)\t0.19766533097751013\n",
      "  (0, 31204)\t0.11179068747551686\n",
      "  (0, 21839)\t0.1815590640265983\n",
      "  (0, 9769)\t0.1637579875879705\n",
      "  (0, 9179)\t0.08646094051751205\n"
     ]
    }
   ],
   "source": [
    "print(bodies_tfidf[0])"
   ]
  },
  {
   "cell_type": "code",
   "execution_count": 32,
   "metadata": {},
   "outputs": [
    {
     "data": {
      "text/plain": [
       "(100000, 18448)"
      ]
     },
     "execution_count": 32,
     "metadata": {},
     "output_type": "execute_result"
    }
   ],
   "source": [
    "res.shape"
   ]
  },
  {
   "cell_type": "code",
   "execution_count": 33,
   "metadata": {},
   "outputs": [
    {
     "data": {
      "text/plain": [
       "(100000, 253522)"
      ]
     },
     "execution_count": 33,
     "metadata": {},
     "output_type": "execute_result"
    }
   ],
   "source": [
    "bodies_tfidf[:100000].shape"
   ]
  },
  {
   "cell_type": "code",
   "execution_count": 34,
   "metadata": {},
   "outputs": [],
   "source": [
    "X_train, X_test, y_train, y_test = train_test_split(bodies_tfidf[:50000], res[:50000], test_size=0.1, random_state=42)"
   ]
  },
  {
   "cell_type": "code",
   "execution_count": null,
   "metadata": {},
   "outputs": [],
   "source": [
    "# using binary relevance\n",
    "from skmultilearn.problem_transform import BinaryRelevance\n",
    "from sklearn.naive_bayes import GaussianNB\n",
    "# initialize binary relevance multi-label classifier\n",
    "# with a gaussian naive bayes base classifier\n",
    "classifier = BinaryRelevance(GaussianNB())\n",
    "# train\n",
    "classifier.fit(X_train[:100], y_train[:100])\n",
    "# predict\n",
    "predictions = classifier.predict(X_test[:2000])\n",
    "# accuracy\n",
    "print(\"Accuracy = \",accuracy_score(y_test[:2000],predictions))"
   ]
  }
 ],
 "metadata": {
  "kernelspec": {
   "display_name": "Python 3",
   "language": "python",
   "name": "python3"
  },
  "language_info": {
   "codemirror_mode": {
    "name": "ipython",
    "version": 3
   },
   "file_extension": ".py",
   "mimetype": "text/x-python",
   "name": "python",
   "nbconvert_exporter": "python",
   "pygments_lexer": "ipython3",
   "version": "3.7.1"
  }
 },
 "nbformat": 4,
 "nbformat_minor": 2
}
