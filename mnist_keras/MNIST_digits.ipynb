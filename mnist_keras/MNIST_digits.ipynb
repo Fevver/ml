{
 "cells": [
  {
   "cell_type": "code",
   "execution_count": 2,
   "metadata": {},
   "outputs": [],
   "source": [
    "import numpy as np\n",
    "import tensorflow as tf\n",
    "import pandas as pd"
   ]
  },
  {
   "cell_type": "code",
   "execution_count": 3,
   "metadata": {
    "scrolled": true
   },
   "outputs": [
    {
     "name": "stdout",
     "output_type": "stream",
     "text": [
      "2.0.0\n"
     ]
    }
   ],
   "source": [
    "print(tf.__version__)"
   ]
  },
  {
   "cell_type": "code",
   "execution_count": 4,
   "metadata": {},
   "outputs": [],
   "source": [
    "train = pd.read_csv('train.csv')"
   ]
  },
  {
   "cell_type": "code",
   "execution_count": 5,
   "metadata": {},
   "outputs": [],
   "source": [
    "X,Y = (train.drop('label',axis=1),train['label'])\n",
    "X = X.values.reshape(42000,28,28,1)\n",
    "X_train, X_test = (X[:38000],X[38000:])\n",
    "Y_train, Y_test = (Y[:38000],Y[38000:])"
   ]
  },
  {
   "cell_type": "code",
   "execution_count": 6,
   "metadata": {},
   "outputs": [],
   "source": [
    "datagen = tf.keras.preprocessing.image.ImageDataGenerator(  rotation_range=10,\n",
    "                                                            width_shift_range=0.1,\n",
    "                                                            height_shift_range=0.1,\n",
    "                                                            zoom_range=0.1,\n",
    "                                                            rescale=1./255)\n",
    "datagen.fit(X_train)\n",
    "datagen_valid = tf.keras.preprocessing.image.ImageDataGenerator(rescale=1./255)\n",
    "datagen_valid.fit(X_test)"
   ]
  },
  {
   "cell_type": "code",
   "execution_count": 7,
   "metadata": {
    "scrolled": false
   },
   "outputs": [],
   "source": [
    "model = tf.keras.models.Sequential([tf.keras.layers.Conv2D(32,(3,3),activation='relu',padding = 'same',input_shape=(28,28,1)),\n",
    "                                   tf.keras.layers.BatchNormalization(),\n",
    "                                   \n",
    "                                   tf.keras.layers.Conv2D(32,(3,3),activation='relu',padding = 'same'),\n",
    "                                   tf.keras.layers.BatchNormalization(),\n",
    "                                   tf.keras.layers.MaxPooling2D(2,2), \n",
    "                                   \n",
    "                                   tf.keras.layers.Conv2D(128,(3,3),activation='relu',padding = 'same'),\n",
    "                                   tf.keras.layers.BatchNormalization(),\n",
    "                                    \n",
    "                                   tf.keras.layers.Conv2D(192,(3,3),activation='relu',padding = 'same'),\n",
    "                                   tf.keras.layers.BatchNormalization(),\n",
    "                                   tf.keras.layers.MaxPooling2D(2,2), \n",
    "                                        \n",
    "                                  tf.keras.layers.Flatten(),\n",
    "                                  tf.keras.layers.Dense(512,activation='relu'),\n",
    "                                  tf.keras.layers.BatchNormalization(),\n",
    "                                  tf.keras.layers.Dense(256,activation='relu'),\n",
    "                                  tf.keras.layers.BatchNormalization(),\n",
    "                                  tf.keras.layers.Dense(10,activation='softmax')])\n",
    "\n",
    "model.compile(optimizer='RMSProp',loss='sparse_categorical_crossentropy',metrics=['acc'])"
   ]
  },
  {
   "cell_type": "code",
   "execution_count": 8,
   "metadata": {},
   "outputs": [],
   "source": [
    "reduce_lr = tf.keras.callbacks.ReduceLROnPlateau(monitor='val_loss', factor=0.2,\n",
    "                              patience=5, min_lr=0.001)\n",
    "checkpoint = tf.keras.callbacks.ModelCheckpoint('mnist_weights.h5', monitor = 'val_acc', verbose = 1, save_best_only = True, mode = 'max')"
   ]
  },
  {
   "cell_type": "code",
   "execution_count": 9,
   "metadata": {},
   "outputs": [],
   "source": [
    "model.load_weights('mnist_weights.h5')"
   ]
  },
  {
   "cell_type": "code",
   "execution_count": 25,
   "metadata": {},
   "outputs": [],
   "source": [
    "history1 = model.fit_generator(datagen.flow(X_train, Y_train, batch_size=128),epochs=15,validation_data=datagen_valid.flow(X_test,Y_test,batch_size=16),callbacks=[reduce_lr,checkpoint])"
   ]
  },
  {
   "cell_type": "code",
   "execution_count": 30,
   "metadata": {},
   "outputs": [],
   "source": [
    "#model.save_weights('mnist_weights.h5')\n",
    "#model.save(r'C:\\Users\\user\\Desktop\\Kaggle_2.0\\myfirstmodel.h5')"
   ]
  },
  {
   "cell_type": "code",
   "execution_count": 175,
   "metadata": {},
   "outputs": [],
   "source": [
    "test = pd.read_csv('test.csv')\n",
    "test = test.values.reshape(test.shape[0],28,28,1)\n",
    "test = test/255\n",
    "prediction = model.predict(test)\n",
    "pred_classes = prediction.argmax(axis=-1)"
   ]
  },
  {
   "cell_type": "code",
   "execution_count": 27,
   "metadata": {},
   "outputs": [],
   "source": [
    "pred_classes.shape"
   ]
  },
  {
   "cell_type": "code",
   "execution_count": 176,
   "metadata": {},
   "outputs": [],
   "source": [
    "pred_classes = pd.DataFrame({'ImageId': range(1,28001),'Label':pred_classes})\n",
    "pred_classes.to_csv(r'C:\\Users\\user\\Desktop\\Kaggle_2.0\\submission.csv',index=False)"
   ]
  },
  {
   "cell_type": "code",
   "execution_count": 26,
   "metadata": {},
   "outputs": [],
   "source": [
    "output"
   ]
  },
  {
   "cell_type": "code",
   "execution_count": 17,
   "metadata": {},
   "outputs": [],
   "source": [
    "output = tf.keras.layers.Dense(512, activation='relu')(model.layers[-6].output)\n",
    "output = tf.keras.layers.BatchNormalization()(output)\n",
    "output = tf.keras.layers.Dense(512, activation='relu')(output)\n",
    "output = tf.keras.layers.BatchNormalization()(output)\n",
    "output = tf.keras.layers.Dense(256, activation='relu')(output)\n",
    "output = tf.keras.layers.BatchNormalization()(output)\n",
    "output = tf.keras.layers.Dense(10, activation='softmax')(output)"
   ]
  },
  {
   "cell_type": "code",
   "execution_count": 18,
   "metadata": {},
   "outputs": [],
   "source": [
    "inputs = model.layers[0].input"
   ]
  },
  {
   "cell_type": "code",
   "execution_count": 24,
   "metadata": {},
   "outputs": [],
   "source": [
    "new_model = tf.keras.Model(inputs,output)\n",
    "new_model.summary()"
   ]
  },
  {
   "cell_type": "code",
   "execution_count": 21,
   "metadata": {},
   "outputs": [],
   "source": [
    "new_model.compile(optimizer='RMSProp',loss='sparse_categorical_crossentropy',metrics=['acc'])"
   ]
  },
  {
   "cell_type": "code",
   "execution_count": 23,
   "metadata": {
    "scrolled": false
   },
   "outputs": [],
   "source": [
    "history2 = new_model.fit_generator(datagen.flow(X_train, Y_train, batch_size=128),epochs=30,validation_data=datagen_valid.flow(X_test,Y_test,batch_size=16),callbacks=[reduce_lr])"
   ]
  },
  {
   "cell_type": "code",
   "execution_count": 151,
   "metadata": {},
   "outputs": [],
   "source": [
    "#new_model.save_weights('model2_weights')"
   ]
  }
 ],
 "metadata": {
  "kernelspec": {
   "display_name": "Python 3",
   "language": "python",
   "name": "python3"
  },
  "language_info": {
   "codemirror_mode": {
    "name": "ipython",
    "version": 3
   },
   "file_extension": ".py",
   "mimetype": "text/x-python",
   "name": "python",
   "nbconvert_exporter": "python",
   "pygments_lexer": "ipython3",
   "version": "3.7.1"
  }
 },
 "nbformat": 4,
 "nbformat_minor": 2
}
